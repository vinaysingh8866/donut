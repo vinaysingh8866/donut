{
 "cells": [
  {
   "cell_type": "code",
   "execution_count": 7,
   "metadata": {},
   "outputs": [],
   "source": [
    "#open json file\n",
    "import json\n",
    "file = open('mahabharata.json', 'r')\n",
    "data = json.load(file)\n",
    "file.close()"
   ]
  },
  {
   "cell_type": "code",
   "execution_count": 11,
   "metadata": {},
   "outputs": [
    {
     "name": "stdout",
     "output_type": "stream",
     "text": [
      "dict_keys(['vol-i', 'vol-ii', 'vol-iii', 'vol-iv', 'vol-v', 'vol-vi', 'vol-vii', 'vol-viii', 'vol-ix'])\n"
     ]
    }
   ],
   "source": [
    "\n",
    "print(data.keys())\n",
    "#print keys of data\n",
    "textFile = open('mahabharata.txt', 'a')\n",
    "for key in data.keys():\n",
    "    for i in data[key]:\n",
    "        chapter = i['chapter']\n",
    "        parva = i['parva']\n",
    "        description = i['description']\n",
    "        sn = i['sn']\n",
    "        en = i['en']\n",
    "        # write sn and en to file one by one\n",
    "        for i, j in zip(sn, en):\n",
    "            textFile.write(i + '\\n' + j )\n",
    "            textFile.write('\\n')\n",
    "textFile.close()\n"
   ]
  },
  {
   "cell_type": "code",
   "execution_count": 15,
   "metadata": {},
   "outputs": [
    {
     "name": "stdout",
     "output_type": "stream",
     "text": [
      "dict_keys(['vol-i', 'vol-ii', 'vol-iii', 'vol-iv'])\n"
     ]
    }
   ],
   "source": [
    "file = open('ramayana.json', 'r')\n",
    "data = json.load(file)\n",
    "file.close()\n",
    "\n",
    "print(data.keys())\n",
    "#print keys of data\n",
    "textFile = open('ramayna.txt', 'a')\n",
    "for key in data.keys():\n",
    "    for i in data[key]:\n",
    "        chapter = i['chapter']\n",
    "        sn = i['sn']\n",
    "        en = i['en']\n",
    "        # write sn and en to file one by one\n",
    "        for i, j in zip(sn, en):\n",
    "            textFile.write(i + '\\n' + j )\n",
    "            textFile.write('\\n')\n",
    "textFile.close()\n"
   ]
  },
  {
   "cell_type": "code",
   "execution_count": 17,
   "metadata": {},
   "outputs": [],
   "source": [
    "# merge both files into new file named as 'merged.txt'\n",
    "with open('mahabharata.txt', 'r') as f1, open('ramayna.txt', 'r') as f2, open('merged.txt', 'w') as f3:\n",
    "    for line in f1:\n",
    "        f3.write(line)\n",
    "    for line in f2:\n",
    "        f3.write(line)"
   ]
  },
  {
   "cell_type": "code",
   "execution_count": null,
   "metadata": {},
   "outputs": [],
   "source": []
  }
 ],
 "metadata": {
  "kernelspec": {
   "display_name": "base",
   "language": "python",
   "name": "python3"
  },
  "language_info": {
   "codemirror_mode": {
    "name": "ipython",
    "version": 3
   },
   "file_extension": ".py",
   "mimetype": "text/x-python",
   "name": "python",
   "nbconvert_exporter": "python",
   "pygments_lexer": "ipython3",
   "version": "3.9.12"
  },
  "orig_nbformat": 4,
  "vscode": {
   "interpreter": {
    "hash": "809c67de1de6f03de8e36b13e62fa8b9834fbab480013a39259e497b701bac96"
   }
  }
 },
 "nbformat": 4,
 "nbformat_minor": 2
}
